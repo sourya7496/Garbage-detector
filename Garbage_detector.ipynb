{
 "cells": [
  {
   "cell_type": "code",
   "execution_count": 1,
   "id": "ad98af37",
   "metadata": {},
   "outputs": [],
   "source": [
    "from tensorflow.keras import datasets, layers, models\n",
    "import os\n",
    "import numpy as np\n",
    "import matplotlib.pyplot as plt\n",
    "import tensorflow as tf\n",
    "from tensorflow.keras.preprocessing.image import ImageDataGenerator"
   ]
  },
  {
   "cell_type": "code",
   "execution_count": 2,
   "id": "d29b35bc",
   "metadata": {},
   "outputs": [
    {
     "name": "stdout",
     "output_type": "stream",
     "text": [
      "Found 2013 images belonging to 3 classes.\n",
      "Found 218 images belonging to 3 classes.\n"
     ]
    },
    {
     "name": "stderr",
     "output_type": "stream",
     "text": [
      "WARNING:absl:`lr` is deprecated in Keras optimizer, please use `learning_rate` or use the legacy optimizer, e.g.,tf.keras.optimizers.legacy.RMSprop.\n"
     ]
    },
    {
     "name": "stdout",
     "output_type": "stream",
     "text": [
      "Epoch 1/10\n",
      "62/62 [==============================] - 364s 6s/step - loss: 0.8692 - acc: 0.6746 - val_loss: 0.6244 - val_acc: 0.7890\n",
      "Epoch 2/10\n",
      "62/62 [==============================] - 342s 5s/step - loss: 0.4039 - acc: 0.8520 - val_loss: 0.5207 - val_acc: 0.7936\n",
      "Epoch 3/10\n",
      "62/62 [==============================] - 244s 4s/step - loss: 0.3170 - acc: 0.8803 - val_loss: 0.5204 - val_acc: 0.8073\n",
      "Epoch 4/10\n",
      "62/62 [==============================] - 232s 4s/step - loss: 0.2655 - acc: 0.9036 - val_loss: 0.5030 - val_acc: 0.8257\n",
      "Epoch 5/10\n",
      "62/62 [==============================] - 231s 4s/step - loss: 0.2379 - acc: 0.9185 - val_loss: 0.5694 - val_acc: 0.7890\n",
      "Epoch 6/10\n",
      "62/62 [==============================] - 241s 4s/step - loss: 0.1752 - acc: 0.9354 - val_loss: 0.5575 - val_acc: 0.8257\n",
      "Epoch 7/10\n",
      "62/62 [==============================] - 230s 4s/step - loss: 0.1607 - acc: 0.9394 - val_loss: 0.9026 - val_acc: 0.8303\n",
      "Epoch 8/10\n",
      "62/62 [==============================] - 229s 4s/step - loss: 0.1425 - acc: 0.9523 - val_loss: 0.5758 - val_acc: 0.8303\n",
      "Epoch 9/10\n",
      "62/62 [==============================] - 243s 4s/step - loss: 0.1387 - acc: 0.9503 - val_loss: 0.6553 - val_acc: 0.8211\n",
      "Epoch 10/10\n",
      "62/62 [==============================] - 244s 4s/step - loss: 0.0830 - acc: 0.9677 - val_loss: 0.7056 - val_acc: 0.7798\n"
     ]
    }
   ],
   "source": [
    "train_datagen = ImageDataGenerator(rescale=1./255)\n",
    "train_dir = r'Dataset\\Training'\n",
    "validation_dir = r'Dataset\\Validation'\n",
    "batch_size = 32\n",
    "epochs = 10\n",
    "\n",
    "train_generator = train_datagen.flow_from_directory(\n",
    "        train_dir,\n",
    "        target_size=(150, 150),\n",
    "        batch_size=batch_size,\n",
    "        class_mode='categorical')\n",
    "\n",
    "validation_generator = train_datagen.flow_from_directory(\n",
    "        validation_dir,\n",
    "        target_size=(150, 150),\n",
    "        batch_size=batch_size,\n",
    "        class_mode='categorical')\n",
    "\n",
    "model = tf.keras.models.Sequential([\n",
    "    tf.keras.layers.Conv2D(32, (3,3), activation='relu', input_shape=(150,150,3)),\n",
    "    tf.keras.layers.MaxPooling2D(2,2),\n",
    "    tf.keras.layers.Conv2D(64, (3,3), activation='relu'),\n",
    "    tf.keras.layers.MaxPooling2D(2,2),\n",
    "    tf.keras.layers.Conv2D(128, (3,3), activation='relu'),\n",
    "    tf.keras.layers.MaxPooling2D(2,2),\n",
    "    tf.keras.layers.Flatten(),\n",
    "    tf.keras.layers.Dense(512, activation='relu'),\n",
    "    tf.keras.layers.Dense(3, activation='softmax')\n",
    "])\n",
    "\n",
    "model.compile(loss='categorical_crossentropy',\n",
    "              optimizer=tf.keras.optimizers.RMSprop(lr=1e-4),\n",
    "              metrics=['acc'])\n",
    "\n",
    "history = model.fit(\n",
    "      train_generator,\n",
    "      steps_per_epoch=train_generator.samples/train_generator.batch_size,\n",
    "      epochs=epochs,\n",
    "      validation_data=validation_generator,\n",
    "      validation_steps=validation_generator.samples/validation_generator.batch_size,\n",
    "      verbose=1)"
   ]
  },
  {
   "cell_type": "markdown",
   "id": "7c6d7062",
   "metadata": {},
   "source": [
    "model.save('ME574.h5')"
   ]
  },
  {
   "cell_type": "code",
   "execution_count": 5,
   "id": "93a93bb8",
   "metadata": {},
   "outputs": [],
   "source": [
    "model.save('ME574.h5')"
   ]
  },
  {
   "cell_type": "code",
   "execution_count": 2,
   "id": "4ce08a34",
   "metadata": {},
   "outputs": [
    {
     "name": "stdout",
     "output_type": "stream",
     "text": [
      "pygame 2.3.0 (SDL 2.24.2, Python 3.9.12)\n",
      "Hello from the pygame community. https://www.pygame.org/contribute.html\n",
      "Image captured!\n"
     ]
    }
   ],
   "source": [
    "import cv2\n",
    "import pygame\n",
    "\n",
    "# Initializing the webcam\n",
    "cap = cv2.VideoCapture(0)\n",
    "\n",
    "# Initializing Pygame and the PS4 controller\n",
    "pygame.init()\n",
    "pygame.joystick.init()\n",
    "controller = pygame.joystick.Joystick(0)\n",
    "controller.init()\n",
    "\n",
    "# Capture loop\n",
    "running = True\n",
    "while running:\n",
    "    ret, frame = cap.read()\n",
    "\n",
    "    # Displaying the webcam feed\n",
    "    cv2.imshow('Webcam', frame)\n",
    "\n",
    "    # Checking for controller input events\n",
    "    for event in pygame.event.get():\n",
    "        if event.type == pygame.JOYBUTTONDOWN:\n",
    "            if event.button == 1:  # Circle button\n",
    "                # Capture the image when the Circle button is pressed\n",
    "                image_path = r'captured_image.jpg'\n",
    "                cv2.imwrite(image_path, frame)\n",
    "                print('Image captured!')\n",
    "                running = False  # Ending the capture loop and close the webcam window\n",
    "                break\n",
    "        \n",
    "        elif event.type == pygame.JOYBUTTONUP:\n",
    "            if event.button == 2:  # Square button\n",
    "                running = False  # Ending the capture loop and close the webcam window\n",
    "                break\n",
    "\n",
    "    # Exit the loop when the ESC key is pressed\n",
    "    if cv2.waitKey(1) == 27:\n",
    "        break\n",
    "\n",
    "# Release the webcam and close windows\n",
    "cap.release()\n",
    "cv2.destroyAllWindows()\n"
   ]
  },
  {
   "cell_type": "code",
   "execution_count": 3,
   "id": "5a8e32f6",
   "metadata": {},
   "outputs": [
    {
     "name": "stdout",
     "output_type": "stream",
     "text": [
      "1/1 [==============================] - 1s 537ms/step\n",
      "[[9.9852484e-01 1.4721219e-03 3.1446998e-06]]\n",
      "Paper\n"
     ]
    }
   ],
   "source": [
    "from tensorflow.keras.models import load_model\n",
    "from tensorflow.keras.preprocessing import image\n",
    "import numpy as np\n",
    "\n",
    "model1 = load_model(r'ME574.h5')\n",
    "img = image.load_img(r'captured_image.jpg', target_size=(150, 150))\n",
    "\n",
    "# Preprocessing the image\n",
    "img_array = image.img_to_array(img)\n",
    "img_array = np.expand_dims(img_array, axis=0)\n",
    "img_array /= 255.\n",
    "\n",
    "# Making a prediction\n",
    "class_names=['Paper','Plastic','Trash']\n",
    "prediction = model1.predict(img_array)\n",
    "pred=class_names[np.argmax(prediction)]\n",
    "\n",
    "print(prediction)\n",
    "print(pred)"
   ]
  },
  {
   "cell_type": "code",
   "execution_count": null,
   "id": "a2732562",
   "metadata": {},
   "outputs": [],
   "source": []
  },
  {
   "cell_type": "code",
   "execution_count": null,
   "id": "f17daa83",
   "metadata": {},
   "outputs": [],
   "source": []
  },
  {
   "cell_type": "code",
   "execution_count": null,
   "id": "918d3e11",
   "metadata": {},
   "outputs": [],
   "source": []
  }
 ],
 "metadata": {
  "kernelspec": {
   "display_name": "Python 3 (ipykernel)",
   "language": "python",
   "name": "python3"
  },
  "language_info": {
   "codemirror_mode": {
    "name": "ipython",
    "version": 3
   },
   "file_extension": ".py",
   "mimetype": "text/x-python",
   "name": "python",
   "nbconvert_exporter": "python",
   "pygments_lexer": "ipython3",
   "version": "3.9.12"
  }
 },
 "nbformat": 4,
 "nbformat_minor": 5
}
